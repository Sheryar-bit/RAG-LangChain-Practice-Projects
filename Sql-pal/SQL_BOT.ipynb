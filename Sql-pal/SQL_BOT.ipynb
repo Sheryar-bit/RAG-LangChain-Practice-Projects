{
 "cells": [
  {
   "cell_type": "code",
   "id": "04b42c0b-5ae2-4491-aa99-794a8a613eb7",
   "metadata": {
    "ExecuteTime": {
     "end_time": "2025-09-07T16:10:07.730028Z",
     "start_time": "2025-09-07T16:09:31.446157Z"
    }
   },
   "source": [
    "!pip -q install kagglehub\n",
    "!pip -q install langchain\n",
    "!pip -q install python-dotenv\n",
    "!pip -q install streamlit\n",
    "!pip -q install faiss-cpu\n",
    "!pip -q install mysql-connector-python\n",
    "!pip -q install pymysql\n",
    "!pip -q install sentence-transformers\n",
    "!pip -q install chromadb\n",
    "!pip -q install tiktoken\n",
    "!pip -q install protobuf"
   ],
   "outputs": [],
   "execution_count": 1
  },
  {
   "metadata": {
    "ExecuteTime": {
     "end_time": "2025-09-08T08:25:59.372453Z",
     "start_time": "2025-09-08T08:25:57.436782Z"
    }
   },
   "cell_type": "code",
   "source": [
    "from huggingface_hub import login\n",
    "access_token_read= \"\"\n",
    "access_token_write=\"\"\n",
    "login(token=access_token_read)\n"
   ],
   "id": "807c0c347e50f298",
   "outputs": [],
   "execution_count": 1
  },
  {
   "metadata": {
    "ExecuteTime": {
     "end_time": "2025-09-08T09:27:32.241240Z",
     "start_time": "2025-09-08T09:26:36.973849Z"
    }
   },
   "cell_type": "code",
   "source": "!pip -q install google-generativeai\n",
   "id": "1f4cee30f33fb715",
   "outputs": [
    {
     "name": "stderr",
     "output_type": "stream",
     "text": [
      "ERROR: pip's dependency resolver does not currently take into account all the packages that are installed. This behaviour is the source of the following dependency conflicts.\n",
      "langchain-google-genai 2.1.10 requires google-ai-generativelanguage<0.7.0,>=0.6.18, but you have google-ai-generativelanguage 0.6.15 which is incompatible.\n"
     ]
    }
   ],
   "execution_count": 11
  },
  {
   "cell_type": "code",
   "id": "e848b6c7-e6d6-444e-8482-67e83c60896a",
   "metadata": {
    "ExecuteTime": {
     "end_time": "2025-09-08T10:31:29.800869Z",
     "start_time": "2025-09-08T10:31:18.552752Z"
    }
   },
   "source": [
    "import google.generativeai as genai\n",
    "from langchain_google_genai import ChatGoogleGenerativeAI\n",
    "\n",
    "# 1. Configure Gemini\n",
    "# genai.configure(api_key=\"\")\n",
    "\n",
    "# 2. Wrap Gemini inside LangChain\n",
    "llm = ChatGoogleGenerativeAI(\n",
    "    model=\"gemini-2.5-flash\",\n",
    "    google_api_key=\"YOUR_API_KEY\"\n",
    ")\n",
    "llm.invoke(\"what is AI? \")"
   ],
   "outputs": [
    {
     "data": {
      "text/plain": [
       "AIMessage(content='**Artificial Intelligence (AI)** is a broad field of computer science focused on creating machines that can perform tasks that typically require human intelligence.\\n\\nIn simpler terms, AI aims to make computers \"think\" and \"learn\" like humans do, enabling them to solve problems, make decisions, understand language, recognize patterns, and even perceive the environment.\\n\\nHere\\'s a breakdown of what that means:\\n\\n1.  **Simulating Human Intelligence:** AI systems are designed to mimic cognitive functions associated with the human mind, such as:\\n    *   **Learning:** Acquiring information and rules for using the information.\\n    *   **Reasoning:** Using rules to reach approximate or definite conclusions.\\n    *   **Problem-solving:** Finding solutions to complex challenges.\\n    *   **Perception:** Understanding and interpreting sensory input (like images or sounds).\\n    *   **Language Understanding:** Processing and generating human language.\\n    *   **Decision-making:** Choosing the best course of action from available options.\\n\\n2.  **How it Works (Simplified):** AI systems achieve these capabilities by:\\n    *   **Algorithms:** Using complex sets of rules and instructions.\\n    *   **Data:** Processing vast amounts of information to identify patterns and make predictions.\\n    *   **Machine Learning (ML):** A core subset of AI where systems learn from data without being explicitly programmed for every possible scenario. Instead, they learn to identify patterns and make decisions based on the data they\\'ve been trained on.\\n    *   **Deep Learning (DL):** A subfield of ML that uses neural networks (inspired by the human brain) with many layers to learn very complex patterns from large datasets, especially useful for things like image and speech recognition.\\n\\n3.  **Types of AI:**\\n    *   **Narrow (or Weak) AI:** This is the only type of AI that currently exists. It\\'s designed and trained for a specific task.\\n        *   *Examples:* Voice assistants (Siri, Alexa), recommendation engines (Netflix, Amazon), spam filters, self-driving cars (operating within specific parameters), facial recognition, medical diagnosis tools.\\n    *   **General (or Strong) AI - AGI:** This is theoretical AI that would possess human-like cognitive abilities across a wide range of tasks, capable of learning, understanding, and applying intelligence to any problem, just like a human. This does not yet exist.\\n    *   **Superintelligence:** A hypothetical AI that would surpass human intelligence in every aspect, including creativity, general knowledge, and problem-solving. This is also theoretical.\\n\\n4.  **Examples of AI in Action:**\\n    *   **Voice Assistants:** Siri, Alexa, Google Assistant.\\n    *   **Recommendation Systems:** What movies to watch on Netflix, products to buy on Amazon.\\n    *   **Self-Driving Cars:** Tesla Autopilot, Waymo.\\n    *   **Facial Recognition:** Unlocking your phone, security systems.\\n    *   **Medical Diagnosis:** Helping doctors identify diseases from scans.\\n    *   **Fraud Detection:** Banks flagging suspicious transactions.\\n    *   **Generative AI:** Tools like ChatGPT (generating text), DALL-E (generating images), and Midjourney (creating art from text prompts).\\n    *   **Customer Service Chatbots:** Answering common questions on websites.\\n\\nIn essence, AI is a powerful and rapidly evolving technology that is transforming industries and aspects of our daily lives by enabling machines to perform tasks that once required human intellect.', additional_kwargs={}, response_metadata={'prompt_feedback': {'block_reason': 0, 'safety_ratings': []}, 'finish_reason': 'STOP', 'model_name': 'gemini-2.5-flash', 'safety_ratings': []}, id='run--6a314d0f-6a6f-4529-85d6-043cfb6510e3-0')"
      ]
     },
     "execution_count": 37,
     "metadata": {},
     "output_type": "execute_result"
    }
   ],
   "execution_count": 37
  },
  {
   "cell_type": "code",
   "id": "def3865a-d8bb-4a8f-ab7b-866a8f726226",
   "metadata": {
    "ExecuteTime": {
     "end_time": "2025-09-08T10:11:21.849098Z",
     "start_time": "2025-09-08T10:11:21.728369Z"
    }
   },
   "source": [
    "from langchain.utilities import SQLDatabase\n",
    "\n",
    "db_user= \"root\"\n",
    "db_password= \"708sharyar\"\n",
    "db_host= \"localhost\"\n",
    "db_name= \"sqlbot\"\n",
    "\n",
    "db = SQLDatabase.from_uri(f\"mysql+pymysql://{db_user}:{db_password}@{db_host}/{db_name}\", sample_rows_in_table_info=3)\n",
    "print(db.table_info)"
   ],
   "outputs": [
    {
     "name": "stdout",
     "output_type": "stream",
     "text": [
      "\n",
      "CREATE TABLE discounts (\n",
      "\tdiscount_id INTEGER NOT NULL AUTO_INCREMENT, \n",
      "\tt_shirt_id INTEGER NOT NULL, \n",
      "\tpct_discount DECIMAL(5, 2), \n",
      "\tPRIMARY KEY (discount_id), \n",
      "\tCONSTRAINT discounts_ibfk_1 FOREIGN KEY(t_shirt_id) REFERENCES t_shirts (t_shirt_id), \n",
      "\tCONSTRAINT discounts_chk_1 CHECK ((`pct_discount` between 0 and 100))\n",
      ")DEFAULT CHARSET=utf8mb4 ENGINE=InnoDB COLLATE utf8mb4_0900_ai_ci\n",
      "\n",
      "/*\n",
      "3 rows from discounts table:\n",
      "discount_id\tt_shirt_id\tpct_discount\n",
      "1\t1\t10.00\n",
      "2\t2\t15.00\n",
      "3\t3\t20.00\n",
      "*/\n",
      "\n",
      "\n",
      "CREATE TABLE t_shirts (\n",
      "\tt_shirt_id INTEGER NOT NULL AUTO_INCREMENT, \n",
      "\tbrand ENUM('Van Huesen','Levi','Nike','Adidas') NOT NULL, \n",
      "\tcolor ENUM('Red','Blue','Black','White') NOT NULL, \n",
      "\tsize ENUM('XS','S','M','L','XL') NOT NULL, \n",
      "\tprice INTEGER, \n",
      "\tstock_quantity INTEGER NOT NULL, \n",
      "\tPRIMARY KEY (t_shirt_id), \n",
      "\tCONSTRAINT t_shirts_chk_1 CHECK ((`price` between 10 and 50))\n",
      ")DEFAULT CHARSET=utf8mb4 ENGINE=InnoDB COLLATE utf8mb4_0900_ai_ci\n",
      "\n",
      "/*\n",
      "3 rows from t_shirts table:\n",
      "t_shirt_id\tbrand\tcolor\tsize\tprice\tstock_quantity\n",
      "1\tVan Huesen\tRed\tXS\t44\t84\n",
      "2\tNike\tBlack\tS\t49\t67\n",
      "3\tLevi\tBlack\tXS\t49\t41\n",
      "*/\n"
     ]
    }
   ],
   "execution_count": 21
  },
  {
   "cell_type": "code",
   "id": "2782ad3d-eafa-42cd-a776-bbf6b1d91787",
   "metadata": {
    "ExecuteTime": {
     "end_time": "2025-09-07T16:48:08.483067Z",
     "start_time": "2025-09-07T16:47:50.193606Z"
    }
   },
   "source": [
    "!pip install -q langchain-experimental\n",
    "!pip install -q langchain-google-genai"
   ],
   "outputs": [],
   "execution_count": 14
  },
  {
   "metadata": {
    "ExecuteTime": {
     "end_time": "2025-09-08T10:36:51.800588Z",
     "start_time": "2025-09-08T10:36:46.280012Z"
    }
   },
   "cell_type": "code",
   "source": [
    "from langchain_experimental.sql import SQLDatabaseChain\n",
    "# from langchain.llms import llm\n",
    "# db_chain= SQLDatabaseChain.from_llm(llm, db, verbose=True)\n",
    "\n",
    "db_chain = SQLDatabaseChain.from_llm(\n",
    "    llm,\n",
    "    db,\n",
    "    verbose=True,\n",
    "    return_direct=True\n",
    ")\n",
    "\n",
    "qns1=db_chain.run(\"How many t-shirt do we have left for nike in extra small size and white color\")\n",
    "print(qns1)"
   ],
   "id": "e0a73777f1beb772",
   "outputs": [
    {
     "name": "stdout",
     "output_type": "stream",
     "text": [
      "\n",
      "\n",
      "\u001B[1m> Entering new SQLDatabaseChain chain...\u001B[0m\n",
      "How many t-shirt do we have left for nike in extra small size and white color\n",
      "SQLQuery:\u001B[32;1m\u001B[1;3mSQLQuery: SELECT `stock_quantity` FROM `t_shirts` WHERE `brand` = 'Nike' AND `size` = 'XS' AND `color` = 'White' LIMIT 5\u001B[0m\n",
      "SQLResult: \u001B[33;1m\u001B[1;3m[(86,)]\u001B[0m\n",
      "\u001B[1m> Finished chain.\u001B[0m\n",
      "[(86,)]\n"
     ]
    }
   ],
   "execution_count": 46
  },
  {
   "metadata": {
    "ExecuteTime": {
     "end_time": "2025-09-08T10:36:55.767089Z",
     "start_time": "2025-09-08T10:36:55.760927Z"
    }
   },
   "cell_type": "code",
   "source": "qns1",
   "id": "dcbeef87735cd5f3",
   "outputs": [
    {
     "data": {
      "text/plain": [
       "'[(86,)]'"
      ]
     },
     "execution_count": 47,
     "metadata": {},
     "output_type": "execute_result"
    }
   ],
   "execution_count": 47
  },
  {
   "metadata": {
    "ExecuteTime": {
     "end_time": "2025-09-08T10:37:57.092150Z",
     "start_time": "2025-09-08T10:37:56.037399Z"
    }
   },
   "cell_type": "code",
   "source": [
    "qns2 = db_chain.run(\"How many t-shirt do we have left for nike in small size and black color\")\n",
    "print(qns2)\n"
   ],
   "id": "705194116248e577",
   "outputs": [
    {
     "name": "stdout",
     "output_type": "stream",
     "text": [
      "\n",
      "\n",
      "\u001B[1m> Entering new SQLDatabaseChain chain...\u001B[0m\n",
      "How many t-shirt do we have left for nike in small size and black color\n",
      "SQLQuery:\u001B[32;1m\u001B[1;3mSQLQuery: SELECT `stock_quantity` FROM `t_shirts` WHERE `brand` = 'Nike' AND `size` = 'S' AND `color` = 'Black' LIMIT 5\u001B[0m\n",
      "SQLResult: \u001B[33;1m\u001B[1;3m[(67,)]\u001B[0m\n",
      "\u001B[1m> Finished chain.\u001B[0m\n",
      "[(67,)]\n"
     ]
    }
   ],
   "execution_count": 48
  },
  {
   "metadata": {
    "ExecuteTime": {
     "end_time": "2025-09-08T10:39:17.316945Z",
     "start_time": "2025-09-08T10:39:17.308382Z"
    }
   },
   "cell_type": "code",
   "source": "qns2",
   "id": "fc96a9345dd78182",
   "outputs": [
    {
     "data": {
      "text/plain": [
       "'[(67,)]'"
      ]
     },
     "execution_count": 49,
     "metadata": {},
     "output_type": "execute_result"
    }
   ],
   "execution_count": 49
  },
  {
   "metadata": {
    "ExecuteTime": {
     "end_time": "2025-09-08T10:40:53.761443Z",
     "start_time": "2025-09-08T10:40:52.453677Z"
    }
   },
   "cell_type": "code",
   "source": [
    "qns3=db_chain.run(\"How much is the price of the inventory for all small size t-shirts?\")\n",
    "print(qns3)\n",
    "qns3"
   ],
   "id": "8e4d4b1142eac856",
   "outputs": [
    {
     "name": "stdout",
     "output_type": "stream",
     "text": [
      "\n",
      "\n",
      "\u001B[1m> Entering new SQLDatabaseChain chain...\u001B[0m\n",
      "How much is the price of the inventory for all small size t-shirts?\n",
      "SQLQuery:\u001B[32;1m\u001B[1;3mSQLQuery: SELECT SUM(`price` * `stock_quantity`) AS `total_inventory_price` FROM `t_shirts` WHERE `size` = 'S'\u001B[0m\n",
      "SQLResult: \u001B[33;1m\u001B[1;3m[(Decimal('23358'),)]\u001B[0m\n",
      "\u001B[1m> Finished chain.\u001B[0m\n",
      "[(Decimal('23358'),)]\n"
     ]
    },
    {
     "data": {
      "text/plain": [
       "\"[(Decimal('23358'),)]\""
      ]
     },
     "execution_count": 50,
     "metadata": {},
     "output_type": "execute_result"
    }
   ],
   "execution_count": 50
  },
  {
   "metadata": {
    "ExecuteTime": {
     "end_time": "2025-09-08T10:45:12.337611Z",
     "start_time": "2025-09-08T10:45:09.910584Z"
    }
   },
   "cell_type": "code",
   "source": [
    "#No need for few shot learning as model is updated I verified\n",
    "qns4= db_chain.run(\"SELECT SUM(price*stock_quantity) FROM t_shirts WHERE size = 'S'\")\n",
    "qns2"
   ],
   "id": "b9b6889e702758c5",
   "outputs": [
    {
     "name": "stdout",
     "output_type": "stream",
     "text": [
      "\n",
      "\n",
      "\u001B[1m> Entering new SQLDatabaseChain chain...\u001B[0m\n",
      "SELECT SUM(price*stock_quantity) FROM t_shirts WHERE size = 'S'\n",
      "SQLQuery:\u001B[32;1m\u001B[1;3mSQLQuery: SELECT SUM(`price` * `stock_quantity`) FROM `t_shirts` WHERE `size` = 'S'\u001B[0m\n",
      "SQLResult: \u001B[33;1m\u001B[1;3m[(Decimal('23358'),)]\u001B[0m\n",
      "\u001B[1m> Finished chain.\u001B[0m\n"
     ]
    },
    {
     "data": {
      "text/plain": [
       "'[(67,)]'"
      ]
     },
     "execution_count": 51,
     "metadata": {},
     "output_type": "execute_result"
    }
   ],
   "execution_count": 51
  },
  {
   "metadata": {
    "ExecuteTime": {
     "end_time": "2025-09-08T10:49:20.168326Z",
     "start_time": "2025-09-08T10:49:15.586742Z"
    }
   },
   "cell_type": "code",
   "source": [
    "#complex query\n",
    "\n",
    "qns5= db_chain.run(\"If we have to sell all the Levi's T-shirts today with discounts applied. How much revenue will my store generate (post discounts)?\")\n",
    "qns5\n"
   ],
   "id": "213662284a982cc0",
   "outputs": [
    {
     "name": "stdout",
     "output_type": "stream",
     "text": [
      "\n",
      "\n",
      "\u001B[1m> Entering new SQLDatabaseChain chain...\u001B[0m\n",
      "If we have to sell all the Levi's T-shirts today with discounts applied. How much revenue will my store generate (post discounts)?\n",
      "SQLQuery:\u001B[32;1m\u001B[1;3mSQLQuery: SELECT SUM(T1.`stock_quantity` * T1.`price` * (1 - T2.`pct_discount` / 100)) FROM t_shirts AS T1 INNER JOIN discounts AS T2 ON T1.`t_shirt_id` = T2.`t_shirt_id` WHERE T1.`brand` = 'Levi'\u001B[0m\n",
      "SQLResult: \u001B[33;1m\u001B[1;3m[(Decimal('1607.200000'),)]\u001B[0m\n",
      "\u001B[1m> Finished chain.\u001B[0m\n"
     ]
    },
    {
     "data": {
      "text/plain": [
       "\"[(Decimal('1607.200000'),)]\""
      ]
     },
     "execution_count": 52,
     "metadata": {},
     "output_type": "execute_result"
    }
   ],
   "execution_count": 52
  },
  {
   "metadata": {},
   "cell_type": "markdown",
   "source": [
    "Few shots learning, more like training model.\n",
    "Now the thing is that I'm using a really intelligent gemini model, so It is already pretrained, but I'll still train it just because I'm Curious"
   ],
   "id": "12e12bb078a95c04"
  },
  {
   "metadata": {
    "ExecuteTime": {
     "end_time": "2025-09-08T10:59:06.187217Z",
     "start_time": "2025-09-08T10:59:06.182210Z"
    }
   },
   "cell_type": "code",
   "source": [
    "#Syntax\n",
    "few_shots= [\n",
    "    {\n",
    "       'Question': \"\",\n",
    "        'SQLQuery': \"\",\n",
    "        'SQLResult': \"\",\n",
    "        'Answer': \"\",\n",
    "    }\n",
    "]\n",
    "#What we do next is that we store these query as embeddings, in some vector DB, we can use HuggingFaceEmbeddings"
   ],
   "id": "9a8023db751d6f62",
   "outputs": [],
   "execution_count": 54
  },
  {
   "metadata": {
    "ExecuteTime": {
     "end_time": "2025-09-08T11:49:46.065299Z",
     "start_time": "2025-09-08T11:49:36.140500Z"
    }
   },
   "cell_type": "code",
   "source": [
    "qns6=db_chain.run(\"how much sales amount will be generated if we sell all large size t shirts today in nike brand after discounts?\")\n",
    "\n",
    "qns6"
   ],
   "id": "8019438ec99907c9",
   "outputs": [
    {
     "name": "stdout",
     "output_type": "stream",
     "text": [
      "\n",
      "\n",
      "\u001B[1m> Entering new SQLDatabaseChain chain...\u001B[0m\n",
      "how much sales amount will be generated if we sell all large size t shirts today in nike brand after discounts?\n",
      "SQLQuery:\u001B[32;1m\u001B[1;3mSQLQuery: SELECT SUM((T1.`price` * (1 - T2.`pct_discount` / 100)) * T1.`stock_quantity`) AS `total_sales_amount` FROM `t_shirts` AS T1 INNER JOIN `discounts` AS T2 ON T1.`t_shirt_id` = T2.`t_shirt_id` WHERE T1.`brand` = 'Nike' AND T1.`size` = 'L'\u001B[0m\n",
      "SQLResult: \u001B[33;1m\u001B[1;3m[(None,)]\u001B[0m\n",
      "\u001B[1m> Finished chain.\u001B[0m\n"
     ]
    },
    {
     "data": {
      "text/plain": [
       "'[(None,)]'"
      ]
     },
     "execution_count": 58,
     "metadata": {},
     "output_type": "execute_result"
    }
   ],
   "execution_count": 58
  },
  {
   "metadata": {},
   "cell_type": "markdown",
   "source": "Making it more Intelligent",
   "id": "7fd5d5d95cec9878"
  },
  {
   "metadata": {
    "ExecuteTime": {
     "end_time": "2025-09-08T11:04:23.503764Z",
     "start_time": "2025-09-08T11:04:23.496763Z"
    }
   },
   "cell_type": "code",
   "outputs": [
    {
     "name": "stdout",
     "output_type": "stream",
     "text": [
      "You are a MySQL expert. Given an input question, first create a syntactically correct MySQL query to run, then look at the results of the query and return the answer to the input question.\n",
      "Unless the user specifies in the question a specific number of examples to obtain, query for at most {top_k} results using the LIMIT clause as per MySQL. You can order the results to return the most informative data in the database.\n",
      "Never query for all columns from a table. You must query only the columns that are needed to answer the question. Wrap each column name in backticks (`) to denote them as delimited identifiers.\n",
      "Pay attention to use only the column names you can see in the tables below. Be careful to not query for columns that do not exist. Also, pay attention to which column is in which table.\n",
      "Pay attention to use CURDATE() function to get the current date, if the question involves \"today\".\n",
      "\n",
      "Use the following format:\n",
      "\n",
      "Question: Question here\n",
      "SQLQuery: SQL Query to run\n",
      "SQLResult: Result of the SQLQuery\n",
      "Answer: Final answer here\n",
      "\n",
      "\n"
     ]
    }
   ],
   "execution_count": 55,
   "source": [
    "from langchain.chains.sql_database.prompt import PROMPT_SUFFIX, _mysql_prompt\n",
    "\n",
    "print(_mysql_prompt)"
   ],
   "id": "f2cf9c628ab14b04"
  },
  {
   "metadata": {
    "ExecuteTime": {
     "end_time": "2025-09-08T11:10:01.080548Z",
     "start_time": "2025-09-08T11:10:01.074506Z"
    }
   },
   "cell_type": "code",
   "source": [
    "from langchain.prompts.prompt import PromptTemplate\n",
    "\n",
    "example_Prompt= PromptTemplate(\n",
    "    input_variables=[\"Question\", \"SQLQuery\", \"SQLResult\", \"Answer\"],\n",
    "    template=\"\\nQuestion: {Question}\\nSQLQuery: {SQLQuery}\\nSQLResult: {SQLResult}\\n Answer: {Answer}\",\n",
    ")"
   ],
   "id": "6d60043090dc1344",
   "outputs": [],
   "execution_count": 57
  },
  {
   "metadata": {},
   "cell_type": "code",
   "outputs": [],
   "execution_count": null,
   "source": "",
   "id": "40d01e7c881495a0"
  }
 ],
 "metadata": {
  "kernelspec": {
   "display_name": "Python 3 (ipykernel)",
   "language": "python",
   "name": "python3"
  },
  "language_info": {
   "codemirror_mode": {
    "name": "ipython",
    "version": 3
   },
   "file_extension": ".py",
   "mimetype": "text/x-python",
   "name": "python",
   "nbconvert_exporter": "python",
   "pygments_lexer": "ipython3",
   "version": "3.13.5"
  }
 },
 "nbformat": 4,
 "nbformat_minor": 5
}
